{
 "cells": [
  {
   "cell_type": "code",
   "execution_count": null,
   "id": "185ad347",
   "metadata": {},
   "outputs": [],
   "source": [
    "\"\"\"\n",
    "\n",
    "\n",
    "\n",
    "\n",
    "\"\"\"\n",
    "import numpy as np\n",
    "import matplotlib.pyplot as plt\n",
    "\n",
    "\n",
    "class NeuralNetwork():\n",
    "\n",
    "    def __init__(self,num_params=2):\n",
    "\n",
    "        #np.random.seed(1), generates the same weights in every turn \n",
    "        #3x1 weight matrix\n",
    "        #np.random generates a rand number between 0-1\n",
    "        self.weight_matrix = 2* np.random.random((num_params+1,1))-1\n",
    "\n",
    "        self.l_rate=1\n",
    "\n",
    "#activation function\n",
    "def sigmoid(self, x):\n",
    "    return 1/(1+np.exp(-x))\n",
    "\n",
    "#forward propagation\n",
    "def forward_propagation(self, inputs):\n",
    "    outs=np.dot(inputs,self.weight_matrix)\n",
    "    return self.sigmoid(outs)\n",
    "\n",
    "\n",
    "\n"
   ]
  }
 ],
 "metadata": {
  "language_info": {
   "name": "python"
  }
 },
 "nbformat": 4,
 "nbformat_minor": 5
}
